{
 "cells": [
  {
   "cell_type": "code",
   "execution_count": 14,
   "id": "defcd171",
   "metadata": {},
   "outputs": [],
   "source": [
    "class Solution:\n",
    "    def twoSum(self, nums: list[int], target: int) -> list[int]:\n",
    "        hash_map = dict()\n",
    "        for i, num in enumerate(nums):\n",
    "            if (target - num) in hash_map:\n",
    "                return [i, hash_map[target - num]]\n",
    "            else:\n",
    "                hash_map[num] = i"
   ]
  },
  {
   "cell_type": "code",
   "execution_count": 15,
   "id": "d5fcba63",
   "metadata": {},
   "outputs": [
    {
     "data": {
      "text/plain": [
       "[2, 0]"
      ]
     },
     "execution_count": 15,
     "metadata": {},
     "output_type": "execute_result"
    }
   ],
   "source": [
    "s = Solution()\n",
    "a = [2, 3, 4, 5]\n",
    "b = s.twoSum(a, 6)\n",
    "b"
   ]
  },
  {
   "cell_type": "code",
   "execution_count": null,
   "id": "e231bd9f",
   "metadata": {},
   "outputs": [],
   "source": []
  }
 ],
 "metadata": {
  "kernelspec": {
   "display_name": "Python 3 (ipykernel)",
   "language": "python",
   "name": "python3"
  },
  "language_info": {
   "codemirror_mode": {
    "name": "ipython",
    "version": 3
   },
   "file_extension": ".py",
   "mimetype": "text/x-python",
   "name": "python",
   "nbconvert_exporter": "python",
   "pygments_lexer": "ipython3",
   "version": "3.9.13"
  }
 },
 "nbformat": 4,
 "nbformat_minor": 5
}
