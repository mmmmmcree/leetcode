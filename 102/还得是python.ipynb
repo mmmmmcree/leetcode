{
 "cells": [
  {
   "cell_type": "code",
   "execution_count": 7,
   "id": "88a0ca70",
   "metadata": {},
   "outputs": [],
   "source": [
    "from typing import Optional"
   ]
  },
  {
   "cell_type": "code",
   "execution_count": 8,
   "id": "6c5ec042",
   "metadata": {},
   "outputs": [],
   "source": [
    "class TreeNode:\n",
    "    def __init__(self, val=0, left=None, right=None):\n",
    "        self.val = val\n",
    "        self.left = left\n",
    "        self.right = right\n"
   ]
  },
  {
   "cell_type": "code",
   "execution_count": 10,
   "id": "b4ca5b4c",
   "metadata": {},
   "outputs": [],
   "source": [
    "class Solution:\n",
    "    def levelOrder(self, root):\n",
    "        return self.level(root, list(), 0)\n",
    "    \n",
    "    def level(self, root, lists, level):\n",
    "        if root != None:\n",
    "            if len(lists) == level:\n",
    "                lists.append(list())\n",
    "            lists[level].append(root.val)\n",
    "            self.level(root.left, lists, level + 1)\n",
    "            self.level(root.right, lists, level + 1)\n",
    "        return lists"
   ]
  },
  {
   "cell_type": "code",
   "execution_count": null,
   "id": "78ec7661",
   "metadata": {},
   "outputs": [],
   "source": []
  }
 ],
 "metadata": {
  "kernelspec": {
   "display_name": "Python 3 (ipykernel)",
   "language": "python",
   "name": "python3"
  },
  "language_info": {
   "codemirror_mode": {
    "name": "ipython",
    "version": 3
   },
   "file_extension": ".py",
   "mimetype": "text/x-python",
   "name": "python",
   "nbconvert_exporter": "python",
   "pygments_lexer": "ipython3",
   "version": "3.9.13"
  }
 },
 "nbformat": 4,
 "nbformat_minor": 5
}
