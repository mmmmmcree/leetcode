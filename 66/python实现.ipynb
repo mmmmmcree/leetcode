{
 "cells": [
  {
   "cell_type": "code",
   "execution_count": 41,
   "id": "f90f2668",
   "metadata": {},
   "outputs": [],
   "source": [
    "class Solution:\n",
    "    def plusOne(self, digits: list[int]) -> list[int]:\n",
    "        right = len(digits)\n",
    "        while right > 0:\n",
    "            if digits[right - 1] != 9:\n",
    "                digits[right - 1] += 1\n",
    "                return digits\n",
    "            else:\n",
    "                digits[right - 1] = 0\n",
    "                right -= 1\n",
    "        else:\n",
    "            digits.insert(0, 1)\n",
    "            return digits"
   ]
  },
  {
   "cell_type": "code",
   "execution_count": 42,
   "id": "81188d6c",
   "metadata": {},
   "outputs": [
    {
     "data": {
      "text/plain": [
       "[4, 3, 2, 2]"
      ]
     },
     "execution_count": 42,
     "metadata": {},
     "output_type": "execute_result"
    }
   ],
   "source": [
    "s = Solution()\n",
    "a = [4,3, 2, 1]\n",
    "b = s.plusOne(a)\n",
    "b"
   ]
  },
  {
   "cell_type": "code",
   "execution_count": null,
   "id": "baae19e3",
   "metadata": {},
   "outputs": [],
   "source": []
  }
 ],
 "metadata": {
  "kernelspec": {
   "display_name": "Python 3 (ipykernel)",
   "language": "python",
   "name": "python3"
  },
  "language_info": {
   "codemirror_mode": {
    "name": "ipython",
    "version": 3
   },
   "file_extension": ".py",
   "mimetype": "text/x-python",
   "name": "python",
   "nbconvert_exporter": "python",
   "pygments_lexer": "ipython3",
   "version": "3.9.13"
  }
 },
 "nbformat": 4,
 "nbformat_minor": 5
}
